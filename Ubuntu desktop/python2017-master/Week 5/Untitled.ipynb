{
 "cells": [
  {
   "cell_type": "code",
   "execution_count": 35,
   "metadata": {},
   "outputs": [
    {
     "name": "stdout",
     "output_type": "stream",
     "text": [
      "3\n",
      "1 2 3\n",
      "2 3 4\n",
      "3 4 5\n",
      "index of vertex1: 1\n",
      "index of vertex2: 1\n",
      "Length of Path:1\n",
      "['1 2 3', '2 3 4', '3 4 5']\n"
     ]
    }
   ],
   "source": [
    "#NAME: Anshul Sood\n",
    "#ID=2017A7PS0939G\n",
    "def product(X):\n",
    "    result = [[0,0,0],\n",
    "             [0,0,0],\n",
    "             [0,0,0]]\n",
    "\n",
    "    for i in range(len(X)):\n",
    "        for j in range(len(X[0])):\n",
    "            for k in range(len(X)):\n",
    "                result[i][j] += X[i][k] * X[k][j]\n",
    "    return (X)\n",
    "    \n",
    "\n",
    "n=input()\n",
    "X=[]\n",
    "for i in range(int(n)):\n",
    "    b=input()\n",
    "    X.append(b)\n",
    "\n",
    "i1=input(\"index of vertex1: \")\n",
    "i2=input(\"index of vertex2: \")\n",
    "k=input(\"Length of Path:\")\n",
    "for i in range(k-1):\n",
    "    X=product(X)\n",
    "print(X[i1][i2])\n",
    "\n",
    "\n",
    "\n",
    "\n",
    "\n",
    "\n"
   ]
  },
  {
   "cell_type": "code",
   "execution_count": null,
   "metadata": {},
   "outputs": [],
   "source": [
    "a=['1 2 3']"
   ]
  },
  {
   "cell_type": "code",
   "execution_count": null,
   "metadata": {},
   "outputs": [],
   "source": [
    "a=['1 2 3']"
   ]
  }
 ],
 "metadata": {
  "kernelspec": {
   "display_name": "Python 3",
   "language": "python",
   "name": "python3"
  },
  "language_info": {
   "codemirror_mode": {
    "name": "ipython",
    "version": 3
   },
   "file_extension": ".py",
   "mimetype": "text/x-python",
   "name": "python",
   "nbconvert_exporter": "python",
   "pygments_lexer": "ipython3",
   "version": "3.5.2"
  }
 },
 "nbformat": 4,
 "nbformat_minor": 2
}
