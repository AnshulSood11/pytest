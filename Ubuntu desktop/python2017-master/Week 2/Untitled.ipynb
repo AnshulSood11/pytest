{
 "cells": [
  {
   "cell_type": "code",
   "execution_count": 9,
   "metadata": {},
   "outputs": [
    {
     "name": "stdout",
     "output_type": "stream",
     "text": [
      "0.8271506239280472\n"
     ]
    }
   ],
   "source": [
    "import random\n",
    "from math import sqrt\n",
    "a1=random.uniform(0,1)\n",
    "b1=random.uniform(0,1)\n",
    "a2=random.uniform(0,1)\n",
    "b2=random.uniform(0,1)\n",
    "\n",
    "k=(a1-a2)**2\n",
    "j=(b1-b2)**2\n",
    "\n",
    "d=sqrt(k+j)\n",
    "print(d)\n",
    "\n",
    "\n",
    "\n",
    "\n",
    "\n"
   ]
  },
  {
   "cell_type": "code",
   "execution_count": null,
   "metadata": {
    "collapsed": true
   },
   "outputs": [],
   "source": []
  },
  {
   "cell_type": "code",
   "execution_count": 9,
   "metadata": {},
   "outputs": [
    {
     "name": "stdout",
     "output_type": "stream",
     "text": [
      "**********\n",
      "****--****\n",
      "***----***\n",
      "**------**\n",
      "*--------*\n",
      "**------**\n",
      "***----***\n",
      "****--****\n",
      "**********\n"
     ]
    }
   ],
   "source": [
    "for i in range(0,5):\n",
    "    for k in range(0,5-i):\n",
    "        print('*',end='')\n",
    "    for j in range(2*i):\n",
    "        print('-',end='')\n",
    "    for k in range(0,5-i):\n",
    "        print('*',end='')\n",
    "    print(\"\")\n",
    "\n",
    "for i in range(4,0,-1):\n",
    "    for k in range(0,6-i):\n",
    "        print('*',end='')\n",
    "    for j in range(0,(i-1)*2):\n",
    "        print('-',end='')\n",
    "    for k in range(0,6-i):\n",
    "        print('*',end='')\n",
    "    print(\"\")"
   ]
  },
  {
   "cell_type": "code",
   "execution_count": null,
   "metadata": {},
   "outputs": [],
   "source": [
    "a=input(\"String1 :\")\n",
    "b=input(\"String2 :\")\n",
    "for i in range(0,len(a)):\n",
    "    if i%2!=0:\n",
    "        print(a[i],end='')\n",
    "for k in range(0,len(b)):\n",
    "    if k%2==0:\n",
    "        print(b[k],end='')"
   ]
  }
 ],
 "metadata": {
  "kernelspec": {
   "display_name": "Python 3",
   "language": "python",
   "name": "python3"
  },
  "language_info": {
   "codemirror_mode": {
    "name": "ipython",
    "version": 3
   },
   "file_extension": ".py",
   "mimetype": "text/x-python",
   "name": "python",
   "nbconvert_exporter": "python",
   "pygments_lexer": "ipython3",
   "version": "3.5.2"
  }
 },
 "nbformat": 4,
 "nbformat_minor": 2
}
