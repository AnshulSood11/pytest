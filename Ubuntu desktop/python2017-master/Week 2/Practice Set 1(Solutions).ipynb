{
 "cells": [
  {
   "cell_type": "code",
   "execution_count": null,
   "metadata": {},
   "outputs": [],
   "source": [
    "s1 = input(\"Enter string 1 : \")\n",
    "s2 = input(\"Enter string 2 : \")\n",
    "print(s1[1::2] + s2[::2])"
   ]
  },
  {
   "cell_type": "code",
   "execution_count": null,
   "metadata": {},
   "outputs": [],
   "source": [
    "s1 = input(\"Enter string 1 : \")\n",
    "s2 = input(\"Enter string 2 : \")\n",
    "\n",
    "if len(s1) < len(s2):\n",
    "    min_length = len(s1)\n",
    "else:\n",
    "    min_length = len(s2)\n",
    "    \n",
    "\"\".join([s1[i] if s1[i].isupper() else s2[i].upper() for i in range(0, min_length)])\n"
   ]
  },
  {
   "cell_type": "code",
   "execution_count": 1,
   "metadata": {},
   "outputs": [
    {
     "name": "stdout",
     "output_type": "stream",
     "text": [
      "Enter length : 5\n",
      "Enter breadth : 5\n",
      "Enter height : 5\n",
      "Enter N : 10\n",
      "{(0, 0, 5): 5, (0, 0, 0): 0, (5, 0, 0): 5, (0, 5, 0): 5}\n"
     ]
    }
   ],
   "source": [
    "l = input(\"Enter length : \")\n",
    "b = input(\"Enter breadth : \")\n",
    "h = input(\"Enter height : \")\n",
    "N = input(\"Enter N : \")\n",
    "\n",
    "d = {(i, j, k) : abs(i) + abs(j) + abs(k) \n",
    "     for i in [0, int(l)]\n",
    "     for j in [0, int(b)]\n",
    "     for k in [0, int(h)]\n",
    "     if abs(i) + abs(j) + abs(k) < int(N)}\n",
    "print(d)"
   ]
  },
  {
   "cell_type": "code",
   "execution_count": 3,
   "metadata": {},
   "outputs": [
    {
     "name": "stdout",
     "output_type": "stream",
     "text": [
      "1, \n",
      "1, 2, 3, 6, 9, 8, 7, 4, 5, \n",
      "1, 2, 3, 4, 5, 10, 15, 20, 25, 24, 23, 22, 21, 16, 11, 6, 7, 8, 9, 14, 19, 18, 17, 12, 13, \n"
     ]
    }
   ],
   "source": [
    "a = [[1]]\n",
    "\n",
    "b = [[1, 2, 3],\n",
    "     [4, 5, 6],\n",
    "     [7, 8, 9]]\n",
    "c = [[1,   2,  3,  4,  5],\n",
    "     [6,   7,  8,  9, 10],\n",
    "     [11, 12, 13, 14, 15],\n",
    "     [16, 17, 18, 19, 20],\n",
    "     [21, 22, 23, 24, 25]]\n",
    "\n",
    "def spiral(A):\n",
    "    n = len(A)\n",
    "    for i in range(0, n //2 + 1):\n",
    "        for j in range(i, n - i):\n",
    "            print(A[i][j], end=', ')\n",
    "        for j in range(i + 1, n - i):\n",
    "            print(A[j][n - i - 1], end=', ')\n",
    "        for j in range(n - i - 2, i - 1, -1):\n",
    "            print(A[n - i - 1][j], end=', ')\n",
    "        for j in range(n - i - 2, i, -1):\n",
    "            print(A[j][i], end=', ')\n",
    "    print()\n",
    "\n",
    "spiral(a)            \n",
    "spiral(b)\n",
    "spiral(c)"
   ]
  }
 ],
 "metadata": {
  "kernelspec": {
   "display_name": "Python 3",
   "language": "python",
   "name": "python3"
  },
  "language_info": {
   "codemirror_mode": {
    "name": "ipython",
    "version": 3
   },
   "file_extension": ".py",
   "mimetype": "text/x-python",
   "name": "python",
   "nbconvert_exporter": "python",
   "pygments_lexer": "ipython3",
   "version": "3.5.2"
  }
 },
 "nbformat": 4,
 "nbformat_minor": 2
}
