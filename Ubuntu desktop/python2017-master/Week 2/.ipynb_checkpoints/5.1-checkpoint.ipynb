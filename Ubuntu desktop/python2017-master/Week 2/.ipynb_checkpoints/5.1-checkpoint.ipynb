{
 "cells": [
  {
   "cell_type": "code",
   "execution_count": 1,
   "metadata": {},
   "outputs": [
    {
     "data": {
      "text/plain": [
       "5"
      ]
     },
     "execution_count": 1,
     "metadata": {},
     "output_type": "execute_result"
    }
   ],
   "source": [
    "def func_1(x,slope,intercept):#def is keyword\n",
    "    y=x*slope+intercept\n",
    "    return(y)\n",
    "func_1(1,2,3) #Here the function can return more then one value(by forming list(study))\n",
    "\n"
   ]
  },
  {
   "cell_type": "code",
   "execution_count": 2,
   "metadata": {},
   "outputs": [
    {
     "name": "stdout",
     "output_type": "stream",
     "text": [
      "[0, 0, 0, 0, 0]\n"
     ]
    }
   ],
   "source": [
    "list_zeroes=[0 for x in range(0,5)]\n",
    "print(list_zeroes)"
   ]
  },
  {
   "cell_type": "code",
   "execution_count": 5,
   "metadata": {},
   "outputs": [
    {
     "name": "stdout",
     "output_type": "stream",
     "text": [
      "[0, 7, 0, 0, 0]\n",
      "[0, 7, 0, 0, 0]\n"
     ]
    }
   ],
   "source": [
    "def case1(list_zeroes):#here we are defining the function\n",
    "    list_zeroes[1]=7\n",
    "    print(list_zeroes)\n",
    "    \n",
    "case1(list_zeroes)\n",
    "print(list_zeroes)#Calling the function"
   ]
  },
  {
   "cell_type": "code",
   "execution_count": 9,
   "metadata": {},
   "outputs": [
    {
     "name": "stdout",
     "output_type": "stream",
     "text": [
      "[1, 2, 3, 4, 5]\n",
      "[0, 7, 0, 0, 0]\n"
     ]
    }
   ],
   "source": [
    "#list is a mutable datatype\n",
    "def case2(list_zeroes):\n",
    "    list_zeroes=[1,2,3,4,5]\n",
    "    print(list_zeroes)\n",
    "    \n",
    "case2(list_zeroes)\n",
    "print(list_zeroes)\n",
    "    "
   ]
  },
  {
   "cell_type": "code",
   "execution_count": null,
   "metadata": {
    "collapsed": true
   },
   "outputs": [],
   "source": [
    "#in function ; any thing that takes default value is called keyword argument\n",
    "#rule: All the formal arguments in the beginning and the keyword arg should be after it\n"
   ]
  },
  {
   "cell_type": "code",
   "execution_count": 10,
   "metadata": {},
   "outputs": [
    {
     "name": "stdout",
     "output_type": "stream",
     "text": [
      "15\n"
     ]
    }
   ],
   "source": [
    "#*values parameter will be interpretted as a tuple\n",
    "def sum_values(*values):\n",
    "    s=0\n",
    "    for v in values:\n",
    "        s=s+v\n",
    "    return s\n",
    "s=sum_values(1,2,3,4,5)\n",
    "print(s)"
   ]
  },
  {
   "cell_type": "code",
   "execution_count": null,
   "metadata": {
    "collapsed": true
   },
   "outputs": [],
   "source": [
    "def get_a(**values):\n",
    "    return values['a']#study this one"
   ]
  },
  {
   "cell_type": "code",
   "execution_count": 12,
   "metadata": {},
   "outputs": [
    {
     "name": "stdout",
     "output_type": "stream",
     "text": [
      "15\n",
      "-15\n",
      "15\n"
     ]
    }
   ],
   "source": [
    "def sum(*values,**options):\n",
    "    s=0\n",
    "    for i in values:\n",
    "        s=s+i\n",
    "    if \"neg\" in options:    \n",
    "        if options[\"neg\"]: #You can also use if options.get(\"neg\", False):\n",
    "            s= -s\n",
    "    return s\n",
    "s=sum(1,2,3,4,5)\n",
    "print(s)\n",
    "s=sum(1,2,3,4,5, neg=True)\n",
    "print(s)\n",
    "s=sum(1,2,3,4,5, neg=False)\n",
    "print(s)\n",
    "\n"
   ]
  },
  {
   "cell_type": "code",
   "execution_count": null,
   "metadata": {
    "collapsed": true
   },
   "outputs": [],
   "source": []
  }
 ],
 "metadata": {
  "kernelspec": {
   "display_name": "Python 3",
   "language": "python",
   "name": "python3"
  },
  "language_info": {
   "codemirror_mode": {
    "name": "ipython",
    "version": 3
   },
   "file_extension": ".py",
   "mimetype": "text/x-python",
   "name": "python",
   "nbconvert_exporter": "python",
   "pygments_lexer": "ipython3",
   "version": "3.5.2"
  }
 },
 "nbformat": 4,
 "nbformat_minor": 2
}
